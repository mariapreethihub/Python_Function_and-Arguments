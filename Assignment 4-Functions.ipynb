{
 "cells": [
  {
   "cell_type": "markdown",
   "id": "09461094-daba-42b6-9b52-82de8daad9d9",
   "metadata": {},
   "source": [
    "# 1.What does the len() function do in Python? Write a code example using len() to find the length of a list."
   ]
  },
  {
   "cell_type": "code",
   "execution_count": null,
   "id": "1eca1285-d934-468a-a439-cb24636bd64e",
   "metadata": {},
   "outputs": [],
   "source": [
    "## len()- Function used to calculate length of data strutures like string,tuple,list,dictionary etc in Python"
   ]
  },
  {
   "cell_type": "code",
   "execution_count": 1,
   "id": "0931b48e-c8e8-4706-a82a-fa3cccfb7255",
   "metadata": {},
   "outputs": [
    {
     "data": {
      "text/plain": [
       "3"
      ]
     },
     "execution_count": 1,
     "metadata": {},
     "output_type": "execute_result"
    }
   ],
   "source": [
    "fruits=['Apple','Orange','Banana']  # list of fruits\n",
    "len(fruits)                         # function len is called to calculate the length of list fruits."
   ]
  },
  {
   "cell_type": "markdown",
   "id": "d99db9c7-6c09-4b96-b2f5-12d18b1307b6",
   "metadata": {},
   "source": [
    "# 2.Write a Python function greet(name) that takes a person's name as input and prints \"Hello, [name]!\"."
   ]
  },
  {
   "cell_type": "code",
   "execution_count": 83,
   "id": "e23da252-4284-4199-a490-8beac8a4cb62",
   "metadata": {},
   "outputs": [],
   "source": [
    "def greet(name):                # defined function greet by passing agrument name\n",
    "    print(f\"Hello, {name}!\")     "
   ]
  },
  {
   "cell_type": "code",
   "execution_count": 85,
   "id": "20193f29-b297-4172-b148-7d6654fe5d14",
   "metadata": {},
   "outputs": [
    {
     "name": "stdout",
     "output_type": "stream",
     "text": [
      "Hello, sam!\n"
     ]
    }
   ],
   "source": [
    "greet(\"sam\")                   # Calling function greet"
   ]
  },
  {
   "cell_type": "markdown",
   "id": "ba7f9bf3-da57-4813-982a-653b052d00a1",
   "metadata": {},
   "source": [
    "# 3.Write a Python function find_maximum(numbers) that takes a list of integers and returns the maximum value without using the built-in max() function. Use a loop to iterate through the list and compare values."
   ]
  },
  {
   "cell_type": "code",
   "execution_count": 13,
   "id": "2a1f2176-ce96-4be4-8e2e-464f3ed2456d",
   "metadata": {},
   "outputs": [],
   "source": [
    "number=[100,1,6,50]"
   ]
  },
  {
   "cell_type": "code",
   "execution_count": 15,
   "id": "a663bf8e-5a35-4f94-b9f0-ce1a862add8f",
   "metadata": {},
   "outputs": [],
   "source": [
    "def maximum(number):   # defining function maximum and passing argument number\n",
    "    max_no=number[0]   # assigning 1st number in the list as max_no ie max_no is 100\n",
    "    for i in number:  \n",
    "        if i>max_no:   # i is 100, checks 100>100 its false\n",
    "                       # i is 1,checks 1>100 its false\n",
    "                       # i is 6, checks 6>100 its false\n",
    "                       # i is 0,checks 0>100 its false\n",
    "            max_no=i\n",
    "    return max_no      # returns max_no which is 100"
   ]
  },
  {
   "cell_type": "code",
   "execution_count": 17,
   "id": "fd05297e-0341-4053-82cf-9c1b45f3c3ff",
   "metadata": {},
   "outputs": [
    {
     "data": {
      "text/plain": [
       "100"
      ]
     },
     "execution_count": 17,
     "metadata": {},
     "output_type": "execute_result"
    }
   ],
   "source": [
    "maximum(number)"
   ]
  },
  {
   "cell_type": "markdown",
   "id": "b35b2397-e682-404e-a9dd-6e5060f67840",
   "metadata": {},
   "source": [
    "# 4.Explain the difference between local and global variables in a Python function. Write a program where a global variable and a local variable have the same name and show how Python differentiates between them."
   ]
  },
  {
   "cell_type": "code",
   "execution_count": 19,
   "id": "1860665c-5527-4f7a-9790-85acdb498775",
   "metadata": {},
   "outputs": [
    {
     "name": "stdout",
     "output_type": "stream",
     "text": [
      "Value of global variable is 10\n",
      "Value of local variable is 15\n"
     ]
    }
   ],
   "source": [
    "global_variable=10                                      # Assigning value to variable(global) outside function.\n",
    "def variables():                                      # Defining function variables\n",
    "    local_variable=15                                  # Assigning value to variable(local variable) inside the function \n",
    "    print(\"Value of local variable is\",local_variable) # Calling print function to display the value of local variable\n",
    "print(\"Value of global variable is\",global_variable)    # Calling print function to display the value of global variable\n",
    "\n",
    "variables()                                           # Calling function variables"
   ]
  },
  {
   "cell_type": "markdown",
   "id": "266c57c7-ebe7-4c92-accf-879127afedc0",
   "metadata": {},
   "source": [
    "# 5.Create a function calculate_area(length, width=5) that calculates the area of a rectangle. If only the length is provided, the function should assume the width is 5. Show how the function behaves when called with and without the width argument."
   ]
  },
  {
   "cell_type": "code",
   "execution_count": 21,
   "id": "cce54b6b-0f51-4521-93e1-1ff2c2c17565",
   "metadata": {},
   "outputs": [
    {
     "name": "stdout",
     "output_type": "stream",
     "text": [
      "Area of rectangle with passing width argument 10\n",
      "Area of rectangle without passing width argument 50\n"
     ]
    }
   ],
   "source": [
    "def calculate_area(length,width=5):         # Defining function calculate_area by passing argument\n",
    "    area=length*width                       # Calculates area\n",
    "    return area                             # Returns the result \n",
    "    \n",
    "area_with_width=calculate_area(10,1)             # Calling function calculate_area by passing width argument\n",
    "print(\"Area of rectangle with passing width argument\",area_with_width)\n",
    "\n",
    "area_without_width=calculate_area(10)            # Calling function calculate_area without passing width argument\n",
    "print(\"Area of rectangle without passing width argument\",area_without_width)\n"
   ]
  },
  {
   "cell_type": "code",
   "execution_count": null,
   "id": "9d63e05d-7aac-4c95-86a7-9417acb84fc8",
   "metadata": {},
   "outputs": [],
   "source": []
  }
 ],
 "metadata": {
  "kernelspec": {
   "display_name": "Python [conda env:base] *",
   "language": "python",
   "name": "conda-base-py"
  },
  "language_info": {
   "codemirror_mode": {
    "name": "ipython",
    "version": 3
   },
   "file_extension": ".py",
   "mimetype": "text/x-python",
   "name": "python",
   "nbconvert_exporter": "python",
   "pygments_lexer": "ipython3",
   "version": "3.12.7"
  }
 },
 "nbformat": 4,
 "nbformat_minor": 5
}
